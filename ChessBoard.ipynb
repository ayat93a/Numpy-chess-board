{
 "cells": [
  {
   "cell_type": "code",
   "execution_count": 1,
   "metadata": {},
   "outputs": [],
   "source": [
    "import numpy as np # linear algebra\n",
    "import pandas as pd # data processing, CSV file I/O (e.g. pd.read_csv)\n",
    "import os\n",
    "for dirname, _, filenames in os.walk('/kaggle/input'):\n",
    "    for filename in filenames:\n",
    "        print(os.path.join(dirname, filename))"
   ]
  },
  {
   "cell_type": "code",
   "execution_count": 2,
   "metadata": {},
   "outputs": [],
   "source": [
    "import numpy as np\n",
    "import matplotlib.pyplot as plt"
   ]
  },
  {
   "cell_type": "code",
   "execution_count": 3,
   "metadata": {},
   "outputs": [],
   "source": [
    "class Chess_Board:\n",
    "    black = (0,0,0)\n",
    "    white = (1,1,1)\n",
    "    red = (1,.2,0)\n",
    "    blue = (0,1,1)\n",
    "    def __init__ (self, grid = None):\n",
    "        self.grid = np.zeros((8,8,3))\n",
    "        for x in range(8) :\n",
    "            for y in range (8):       \n",
    "                if x % 2 == 0 and  y % 2 == 0 or x % 2 != 0 and  y % 2 != 0 :\n",
    "                    self.grid [y][x] = self.white\n",
    "                elif x % 2 != 0 and  y % 2 == 0 or x % 2 == 0 and  y % 2 != 0 :\n",
    "                    self.grid [x][y] = self.black          \n",
    "        return\n",
    "    \n",
    "    def render(self):\n",
    "        plt.imshow(self.grid)\n",
    "        return\n",
    "\n",
    "\n",
    "    def add_red(self , row , column):\n",
    "        self.grid[row][column] = self.red\n",
    "        self.red_tuple = (row , column)\n",
    "        self.render()\n",
    "        return\n",
    "\n",
    "    def add_blue(self, row , column):\n",
    "        self.grid[row][column] = self.blue\n",
    "        self.blue_tuple = (row , column)\n",
    "        self.render()\n",
    "        return\n",
    "    \n",
    "    def is_under_attack(self):\n",
    "        self.red_tuple\n",
    "        self.blue_tuple\n",
    "        if self.red_tuple[0] == self.blue_tuple[0] or self.red_tuple[1] == self.blue_tuple[1]:\n",
    "            return True\n",
    "        if abs(self.red_tuple[0] - self.blue_tuple[0]) == abs(self.red_tuple[1]- self.blue_tuple[1]):\n",
    "            return True\n",
    "        print('Not Under Attack')\n",
    "        return False"
   ]
  },
  {
   "cell_type": "code",
   "execution_count": 4,
   "metadata": {},
   "outputs": [
    {
     "name": "stdout",
     "output_type": "stream",
     "text": [
      "True\n"
     ]
    },
    {
     "data": {
      "image/png": "[encoded data removed]",
      "text/plain": [
       "<Figure size 432x288 with 1 Axes>"
      ]
     },
     "metadata": {
      "needs_background": "light"
     },
     "output_type": "display_data"
    }
   ],
   "source": [
    "chess = Chess_Board()\n",
    "chess.render()\n",
    "chess.add_red(5,3)\n",
    "chess.add_blue(3,1)\n",
    "print(chess.is_under_attack())\n"
   ]
  },
  {
   "cell_type": "code",
   "execution_count": 5,
   "metadata": {},
   "outputs": [
    {
     "name": "stdout",
     "output_type": "stream",
     "text": [
      "True\n"
     ]
    },
    {
     "data": {
      "image/png": "[encoded data removed]",
      "text/plain": [
       "<Figure size 432x288 with 1 Axes>"
      ]
     },
     "metadata": {
      "needs_background": "light"
     },
     "output_type": "display_data"
    }
   ],
   "source": [
    "chess = Chess_Board()\n",
    "chess.render()\n",
    "chess.add_red(3,3)\n",
    "chess.add_blue(3,1)\n",
    "print(chess.is_under_attack())"
   ]
  },
  {
   "cell_type": "code",
   "execution_count": 6,
   "metadata": {},
   "outputs": [
    {
     "name": "stdout",
     "output_type": "stream",
     "text": [
      "True\n"
     ]
    },
    {
     "data": {
      "image/png": "[encoded data removed]",
      "text/plain": [
       "<Figure size 432x288 with 1 Axes>"
      ]
     },
     "metadata": {
      "needs_background": "light"
     },
     "output_type": "display_data"
    }
   ],
   "source": [
    "chess = Chess_Board()\n",
    "chess.render()\n",
    "chess.add_red(3,3)\n",
    "chess.add_blue(3,5)\n",
    "print(chess.is_under_attack())"
   ]
  },
  {
   "cell_type": "code",
   "execution_count": 7,
   "metadata": {},
   "outputs": [
    {
     "name": "stdout",
     "output_type": "stream",
     "text": [
      "True\n"
     ]
    },
    {
     "data": {
      "image/png": "[encoded data removed]",
      "text/plain": [
       "<Figure size 432x288 with 1 Axes>"
      ]
     },
     "metadata": {
      "needs_background": "light"
     },
     "output_type": "display_data"
    }
   ],
   "source": [
    "chess = Chess_Board()\n",
    "chess.render()\n",
    "chess.add_red(1,3)\n",
    "chess.add_blue(3,1)\n",
    "print(chess.is_under_attack())"
   ]
  },
  {
   "cell_type": "code",
   "execution_count": 8,
   "metadata": {},
   "outputs": [
    {
     "name": "stdout",
     "output_type": "stream",
     "text": [
      "True\n"
     ]
    },
    {
     "data": {
      "image/png": "[encoded data removed]",
      "text/plain": [
       "<Figure size 432x288 with 1 Axes>"
      ]
     },
     "metadata": {
      "needs_background": "light"
     },
     "output_type": "display_data"
    }
   ],
   "source": [
    "chess = Chess_Board()\n",
    "chess.render()\n",
    "chess.add_red(2,0)\n",
    "chess.add_blue(3,1)\n",
    "print(chess.is_under_attack())"
   ]
  },
  {
   "cell_type": "code",
   "execution_count": 9,
   "metadata": {},
   "outputs": [
    {
     "name": "stdout",
     "output_type": "stream",
     "text": [
      "True\n"
     ]
    },
    {
     "data": {
      "image/png": "[encoded data removed]",
      "text/plain": [
       "<Figure size 432x288 with 1 Axes>"
      ]
     },
     "metadata": {
      "needs_background": "light"
     },
     "output_type": "display_data"
    }
   ],
   "source": [
    "chess = Chess_Board()\n",
    "chess.render()\n",
    "chess.add_red(4,0)\n",
    "chess.add_blue(3,1)\n",
    "print(chess.is_under_attack())"
   ]
  },
  {
   "cell_type": "code",
   "execution_count": 10,
   "metadata": {},
   "outputs": [
    {
     "name": "stdout",
     "output_type": "stream",
     "text": [
      "Not Under Attack\n",
      "False\n"
     ]
    },
    {
     "data": {
      "image/png": "[encoded data removed]",
      "text/plain": [
       "<Figure size 432x288 with 1 Axes>"
      ]
     },
     "metadata": {
      "needs_background": "light"
     },
     "output_type": "display_data"
    }
   ],
   "source": [
    "chess = Chess_Board()\n",
    "chess.render()\n",
    "chess.add_red(7,6)\n",
    "chess.add_blue(3,1)\n",
    "print(chess.is_under_attack())"
   ]
  },
  {
   "cell_type": "code",
   "execution_count": 11,
   "metadata": {},
   "outputs": [
    {
     "name": "stdout",
     "output_type": "stream",
     "text": [
      "True\n"
     ]
    },
    {
     "data": {
      "image/png": "[encoded data removed]",
      "text/plain": [
       "<Figure size 432x288 with 1 Axes>"
      ]
     },
     "metadata": {
      "needs_background": "light"
     },
     "output_type": "display_data"
    }
   ],
   "source": [
    "chess = Chess_Board()\n",
    "chess.render()\n",
    "chess.add_red(7,1)\n",
    "chess.add_blue(3,1)\n",
    "print(chess.is_under_attack())"
   ]
  },
  {
   "cell_type": "code",
   "execution_count": 12,
   "metadata": {},
   "outputs": [
    {
     "name": "stdout",
     "output_type": "stream",
     "text": [
      "True\n"
     ]
    },
    {
     "data": {
      "image/png": "[encoded data removed]",
      "text/plain": [
       "<Figure size 432x288 with 1 Axes>"
      ]
     },
     "metadata": {
      "needs_background": "light"
     },
     "output_type": "display_data"
    }
   ],
   "source": [
    "chess = Chess_Board()\n",
    "chess.render()\n",
    "chess.add_red(0,1)\n",
    "chess.add_blue(3,1)\n",
    "print(chess.is_under_attack())"
   ]
  }
 ],
 "metadata": {
  "interpreter": {
   "hash": "2d4e73b75dda3684627bfc1a0073691b2e8f45d8c770a3b343f62854e2c4bf69"
  },
  "kernelspec": {
   "display_name": "Python 3.9.5 64-bit ('3.9.5')",
   "language": "python",
   "name": "python3"
  },
  "language_info": {
   "codemirror_mode": {
    "name": "ipython",
    "version": 3
   },
   "file_extension": ".py",
   "mimetype": "text/x-python",
   "name": "python",
   "nbconvert_exporter": "python",
   "pygments_lexer": "ipython3",
   "version": "3.9.5"
  },
  "orig_nbformat": 4
 },
 "nbformat": 4,
 "nbformat_minor": 2
}
